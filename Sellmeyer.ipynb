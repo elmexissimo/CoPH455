{
 "cells": [
  {
   "cell_type": "markdown",
   "id": "f6d5c391-48f3-4abc-8096-d0165a634c5f",
   "metadata": {},
   "source": [
    "# Sellmeyer equation #\n",
    "This is a demonstration file for the course PH455/957. "
   ]
  },
  {
   "cell_type": "code",
   "execution_count": 14,
   "id": "63e18fe5-51c5-4423-b0fb-9d58ce228f4c",
   "metadata": {},
   "outputs": [],
   "source": [
    "import numpy as np                     # numpy arrays\n",
    "import matplotlib.pyplot as plt        # plotting\n",
    "import PH455"
   ]
  },
  {
   "cell_type": "markdown",
   "id": "86611fe5-2289-44e7-a2d3-2d94af48284a",
   "metadata": {},
   "source": [
    "Define function to calculate $n^2$ at resonance¶"
   ]
  },
  {
   "cell_type": "code",
   "execution_count": 15,
   "id": "3a9ccc44-afae-47bc-aa7a-b8ab808e8e9b",
   "metadata": {},
   "outputs": [],
   "source": [
    "def resonance(lam, B, C):\n",
    "    return B*lam**2/(lam**2-C**2)"
   ]
  },
  {
   "cell_type": "markdown",
   "id": "5db93552-370c-4bf8-a2bb-be1d6068534f",
   "metadata": {},
   "source": [
    "Define parameters"
   ]
  },
  {
   "cell_type": "code",
   "execution_count": 16,
   "id": "ed3e19bf-2fc6-41a5-b30e-70cf3a4ade10",
   "metadata": {},
   "outputs": [],
   "source": [
    "B1 = 10.6684 \n",
    "B2 = 0.0030 \n",
    "B3 = 1.5413 \n",
    "C1 = 0.3015\n",
    "C2 = 1.1347\n",
    "C3 = 1104.0\n",
    "\n",
    "c0 = 299792458"
   ]
  },
  {
   "cell_type": "markdown",
   "id": "3e4f2c56-1c5e-4e03-b929-f1ae9cb572a1",
   "metadata": {},
   "source": [
    "Calculate $n$ for wave length $\\lambda_1$"
   ]
  },
  {
   "cell_type": "code",
   "execution_count": 17,
   "id": "38ef3331-a6fa-4404-8336-fdbe288739c5",
   "metadata": {},
   "outputs": [],
   "source": [
    "lam1 = 1.4\n",
    "n2 = 1 + resonance(lam1, B1, C1) + resonance(lam1, B2, C2) + resonance(lam1, B3, C3)\n",
    "n_1 = np.sqrt(n2)\n",
    "c_1 = c0/n_1"
   ]
  },
  {
   "cell_type": "markdown",
   "id": "c5b08b74-718b-4029-873e-4cc39c76ebb4",
   "metadata": {},
   "source": [
    "Calculate $n$ for wave length $\\lambda_2$"
   ]
  },
  {
   "cell_type": "code",
   "execution_count": 18,
   "id": "77a75118-12af-4849-bc8c-98c0e5b14e87",
   "metadata": {},
   "outputs": [],
   "source": [
    "lam2 = 11\n",
    "n2 = 1 + resonance(lam2, B1, C1) + resonance(lam2, B2, C2) + resonance(lam2, B3, C3)\n",
    "n_2 = np.sqrt(n2)\n",
    "c_2 = c0/n_2"
   ]
  },
  {
   "cell_type": "markdown",
   "id": "e72853c2-a8cd-438a-be4b-a3d88e7afb86",
   "metadata": {},
   "source": [
    "Output"
   ]
  },
  {
   "cell_type": "code",
   "execution_count": 20,
   "id": "b1dce601-bdfb-4e85-a9f1-30ab4f2ee65e",
   "metadata": {},
   "outputs": [
    {
     "name": "stdout",
     "output_type": "stream",
     "text": [
      "Refractive index 1: 3.492276004861424\n",
      "Speed of light 1: 85844434.28373754\n",
      "Refractive index 2: 3.417499083380865\n",
      "Speed of light 2: 87722761.78737733\n",
      "\n",
      "Difference refractive index -0.07477692148055892\n",
      "Differemce speed of light 1878327.5036397874\n"
     ]
    }
   ],
   "source": [
    "print(\"Refractive index 1: {}\".format(n_1) )\n",
    "print(\"Speed of light 1: {}\".format(c_1) )\n",
    "\n",
    "print(\"Refractive index 2: {}\".format(n_2) )\n",
    "print(\"Speed of light 2: {}\\n\".format(c_2) )\n",
    "\n",
    "print(\"Difference refractive index {}\".format(n_2-n_1) )\n",
    "print(\"Differemce speed of light {}\".format(c_2-c_1) )"
   ]
  }
 ],
 "metadata": {
  "kernelspec": {
   "display_name": "Python 3 (ipykernel)",
   "language": "python",
   "name": "python3"
  },
  "language_info": {
   "codemirror_mode": {
    "name": "ipython",
    "version": 3
   },
   "file_extension": ".py",
   "mimetype": "text/x-python",
   "name": "python",
   "nbconvert_exporter": "python",
   "pygments_lexer": "ipython3",
   "version": "3.9.5"
  }
 },
 "nbformat": 4,
 "nbformat_minor": 5
}
