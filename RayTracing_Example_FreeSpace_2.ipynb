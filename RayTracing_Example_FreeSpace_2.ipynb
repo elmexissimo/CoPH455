{
 "cells": [
  {
   "cell_type": "markdown",
   "id": "da07671d-a037-429a-ae62-1160b7d51c38",
   "metadata": {},
   "source": [
    "# Multiple ray tracing steps #\n",
    "This is a demonstration file for PH455/957. It shows you how to implement multiple ray tracing steps."
   ]
  },
  {
   "cell_type": "code",
   "execution_count": 53,
   "id": "81be2e79-95bd-4ca9-8618-4e0aef3f995f",
   "metadata": {
    "scrolled": true
   },
   "outputs": [],
   "source": [
    "import numpy as np\n",
    "import matplotlib.pyplot as plt\n",
    "import PH455"
   ]
  },
  {
   "cell_type": "markdown",
   "id": "c95a4338-f3b0-4a33-82cb-47622f32e472",
   "metadata": {},
   "source": [
    "### (1) Define the input ray: [y, theta]"
   ]
  },
  {
   "cell_type": "code",
   "execution_count": 55,
   "id": "9843abe4-9737-45c3-99c8-1bd6f4dbb1c4",
   "metadata": {},
   "outputs": [],
   "source": [
    "rayIn    = np.array( [2, 0.2] )    # ray at height 2mm and angle 0.2 rad\n",
    "zIn      = 0                       # for position "
   ]
  },
  {
   "cell_type": "markdown",
   "id": "fea260db-e662-4ee1-b515-6f15b1f9af49",
   "metadata": {},
   "source": [
    "### (2) Define the ray-transfer matrices for four steps. \n",
    "- All matrixces represent spatial propagation by distances d1,d2,d3,d4 in this example."
   ]
  },
  {
   "cell_type": "code",
   "execution_count": 57,
   "id": "4c2332da-b189-4bae-ac93-2bb095b41f73",
   "metadata": {},
   "outputs": [],
   "source": [
    "d1  = 5                          \n",
    "M1  = np.array( [[1,d1],[0,1]] ) \n",
    "\n",
    "d2  = 3                          \n",
    "M2  = np.array( [[1,d2],[0,1]] ) \n",
    "\n",
    "d3  = 6                          \n",
    "M3  = np.array( [[1,d3],[0,1]] ) \n",
    "\n",
    "d4  = 3                          \n",
    "M4  = np.array( [[1,d4],[0,1]] ) "
   ]
  },
  {
   "cell_type": "markdown",
   "id": "fbb83836-ee56-4ffb-84c2-b126ade796d4",
   "metadata": {},
   "source": [
    "### (3) Propagate the ray through the system\n",
    "- rayVect and zVect are lists that keep track of the ray parameters at the z positions.\n",
    "\n",
    "Initialize empty position and parameter vectors and append them to the variables zList and rayList. Those lists are used to store the parameters as the ray propagates through the system."
   ]
  },
  {
   "cell_type": "code",
   "execution_count": 59,
   "id": "35908f25-2eb8-452d-886a-b83d2a0490a0",
   "metadata": {},
   "outputs": [],
   "source": [
    "zList    = []\n",
    "rayList  = []\n",
    "\n",
    "rayList.append(rayIn)\n",
    "zList.append(zIn)"
   ]
  },
  {
   "cell_type": "markdown",
   "id": "100a3b93-546e-4d58-8f7f-3445e7c068f7",
   "metadata": {},
   "source": [
    "Propagate by one step with M1. \n",
    "- Calculate the new ray parameters and the new position.\n",
    "- Use the numpy command `matmul` to multiply the matrix `M1` with `rayList[-1]`\n",
    "- `rayList[-1]` uses the last element in the list `rayList`. At the moment, there is only a single element in the list.\n",
    "- The same is true for `zList[-1]`. The `z` position of the ray is shifted by `d1`.\n",
    "- Append the results to the lists which store positions and ray parameters."
   ]
  },
  {
   "cell_type": "code",
   "execution_count": 61,
   "id": "1cdba881-f79b-43ae-883b-a4fcf280f3ab",
   "metadata": {},
   "outputs": [],
   "source": [
    "ray = np.matmul(M1, rayList[-1])\n",
    "\n",
    "rayList.append(ray)    \n",
    "zList.append(zList[-1] + d1)"
   ]
  },
  {
   "cell_type": "markdown",
   "id": "2f93ad9c-a6f0-4a3f-864a-9bfc9be2b013",
   "metadata": {},
   "source": [
    "Repeat the propagation steps for M2,M3,M4."
   ]
  },
  {
   "cell_type": "code",
   "execution_count": 63,
   "id": "36a8ddf3-8a0e-401c-a984-6c1a3a121cbf",
   "metadata": {},
   "outputs": [],
   "source": [
    "rayList.append(np.matmul(M2, rayList[-1]))    \n",
    "zList.append(zList[-1] + d2)\n",
    "\n",
    "rayList.append(np.matmul(M3, rayList[-1]))    \n",
    "zList.append(zList[-1] + d3)\n",
    "\n",
    "rayList.append(np.matmul(M4, rayList[-1]))    \n",
    "zList.append(zList[-1] + d4)"
   ]
  },
  {
   "cell_type": "markdown",
   "id": "a4c743cc-e458-40b9-aa0b-2fe75c6bec42",
   "metadata": {},
   "source": [
    "### (3) Plot the ray \n",
    "- Use the the command \"showRay( zList, rayList )\" in the support module PH455.\n",
    "- zList and rayList contain the z-positions and ray parameters\n",
    "- vertical gray lines show the z-positions\n",
    "- horizontal gray line shows the optical axis\n",
    "- red circles provided y-positions of rays\n",
    "- dashed red lines indicate ray between two points\n",
    "- dashed blue lines indicate angle of input and output rays"
   ]
  },
  {
   "cell_type": "code",
   "execution_count": 74,
   "id": "a8aa4972-5dba-4ad9-8aa3-091b08a70f5d",
   "metadata": {},
   "outputs": [
    {
     "data": {
      "image/png": "[encoded data removed]",
      "text/plain": [
       "<Figure size 640x480 with 1 Axes>"
      ]
     },
     "metadata": {},
     "output_type": "display_data"
    }
   ],
   "source": [
    "PH455.showRay( zList, rayList )"
   ]
  },
  {
   "cell_type": "markdown",
   "id": "d36bce6f-5649-4974-8f3b-db442224a577",
   "metadata": {},
   "source": [
    "## Task\n",
    "Change the matrices `M1,M2,M3,M4` to describe the following situation:\n",
    "- The rays propagate in air for 2mm\n",
    "- until they enter a medium with refractive index n=2.4.\n",
    "- The rays propagate in that medium for 3mm \n",
    "- until they exit back to air."
   ]
  }
 ],
 "metadata": {
  "kernelspec": {
   "display_name": "Python 3 (ipykernel)",
   "language": "python",
   "name": "python3"
  },
  "language_info": {
   "codemirror_mode": {
    "name": "ipython",
    "version": 3
   },
   "file_extension": ".py",
   "mimetype": "text/x-python",
   "name": "python",
   "nbconvert_exporter": "python",
   "pygments_lexer": "ipython3",
   "version": "3.12.4"
  }
 },
 "nbformat": 4,
 "nbformat_minor": 5
}
